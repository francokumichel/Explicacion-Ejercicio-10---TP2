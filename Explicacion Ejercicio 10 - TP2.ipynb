{
 "cells": [
  {
   "cell_type": "markdown",
   "metadata": {},
   "source": [
    "### Explicacion Ejericio 10 - Trabajo Practico 2 - Seminario de Lenguajes Opcion Python\n",
    "#### **Introducción**\n",
    "\n",
    "##### En este breve resumen se explicara el significado de los pasos principales realizados para la resolucion del ejercicio solicitado.\n",
    "\n",
    "#### **Pasos seguidos para la resolución del ejercicio**\n",
    "\n",
    "##### En primer lugar se manipularon los datos provistos por la catedra [nombres](https://catedras.linti.unlp.edu.ar/mod/resource/view.php?id=34485), [eval1](https://catedras.linti.unlp.edu.ar/mod/resource/view.php?id=34486), [eval2](https://catedras.linti.unlp.edu.ar/mod/resource/view.php?id=34487). El contenido de los archivos se guardan en formato texto en 3 variables *nombre*, *eval_1* y *eval_2*. "
   ]
  },
  {
   "cell_type": "code",
   "execution_count": 30,
   "metadata": {},
   "outputs": [],
   "source": [
    "import re\n",
    "nombres = ''' 'Agustin',\n",
    " 'Alan',\n",
    " 'Andrés',\n",
    " 'Ariadna',\n",
    " 'Bautista',\n",
    " 'CAROLINA',\n",
    " 'CESAR',\n",
    " 'David',\n",
    " 'Diego',\n",
    " 'Dolores',\n",
    " 'DYLAN',\n",
    " 'ELIANA',\n",
    " 'Emanuel',\n",
    " 'Fabián',\n",
    " 'Facundo',\n",
    " 'Facundo',\n",
    " 'FEDERICO',\n",
    " 'FEDERICO',\n",
    " 'GONZALO',\n",
    " 'Gregorio',\n",
    " 'Ignacio',\n",
    " 'Jonathan',\n",
    " 'Jonathan',\n",
    " 'Jorge',\n",
    " 'JOSE',\n",
    " 'JUAN',\n",
    " 'Juan',\n",
    " 'Juan',\n",
    " 'Julian',\n",
    " 'Julieta',\n",
    " 'LAUTARO',\n",
    " 'Leonel',\n",
    " 'LUIS',\n",
    " 'Luis',\n",
    " 'Marcos',\n",
    " 'María',\n",
    " 'MATEO',\n",
    " 'Matias',\n",
    " 'Nicolás',\n",
    " 'NICOLÁS',\n",
    " 'Noelia',\n",
    " 'Pablo',\n",
    " 'Priscila',\n",
    " 'TOMAS',\n",
    " 'Tomás',\n",
    " 'Ulises',\n",
    " 'Yanina'\n",
    " '''\n",
    "\n",
    "eval_1 = '''\n",
    " 81,\n",
    " 60,\n",
    " 72,\n",
    " 24,\n",
    " 15,\n",
    " 91,\n",
    " 12,\n",
    " 70,\n",
    " 29,\n",
    " 42,\n",
    " 16,\n",
    " 3,\n",
    " 35,\n",
    " 67,\n",
    " 10,\n",
    " 57,\n",
    " 11,\n",
    " 69,\n",
    " 12,\n",
    " 77,\n",
    " 13,\n",
    " 86,\n",
    " 48,\n",
    " 65,\n",
    " 51,\n",
    " 41,\n",
    " 87,\n",
    " 43,\n",
    " 10,\n",
    " 87,\n",
    " 91,\n",
    " 15,\n",
    " 44,\n",
    " 85,\n",
    " 73,\n",
    " 37,\n",
    " 42,\n",
    " 95,\n",
    " 18,\n",
    " 7,\n",
    " 74,\n",
    " 60,\n",
    " 9,\n",
    " 65,\n",
    " 93,\n",
    " 63,\n",
    " 74\n",
    " '''\n",
    "\n",
    "eval_2 = '''\n",
    " 30,\n",
    " 95,\n",
    " 28,\n",
    " 84,\n",
    " 84,\n",
    " 43,\n",
    " 66,\n",
    " 51,\n",
    " 4,\n",
    " 11,\n",
    " 58,\n",
    " 10,\n",
    " 13,\n",
    " 34,\n",
    " 96,\n",
    " 71,\n",
    " 86,\n",
    " 37,\n",
    " 64,\n",
    " 13,\n",
    " 8,\n",
    " 87,\n",
    " 14,\n",
    " 14,\n",
    " 49,\n",
    " 27,\n",
    " 55,\n",
    " 69,\n",
    " 77,\n",
    " 59,\n",
    " 57,\n",
    " 40,\n",
    " 96,\n",
    " 24,\n",
    " 30,\n",
    " 73,\n",
    " 95,\n",
    " 19,\n",
    " 47,\n",
    " 15,\n",
    " 31,\n",
    " 39,\n",
    " 15,\n",
    " 74,\n",
    " 33,\n",
    " 57,\n",
    " 10 \n",
    " ''' "
   ]
  },
  {
   "cell_type": "markdown",
   "metadata": {},
   "source": [
    "##### Luego con estas variables se procedio a crear 3 listas. Una lista con los nombres y otras dos con las notas de cada evaluación correspondiente. Para la creacion de dichas listas, se definió la función *crear_listas*, en la cual se separa a la cadena por comas y espacios, y luego a los elementos de la lista resultante se sustraen los saltos de linea */n*, espacios y comillas *''*. Las listas resultantes se guardan en las variables *lista_nombres*, *lista_notas_1* y *lista_notas_2*"
   ]
  },
  {
   "cell_type": "code",
   "execution_count": 31,
   "metadata": {},
   "outputs": [
    {
     "name": "stdout",
     "output_type": "stream",
     "text": [
      "['Agustin', 'Alan', 'Andrés', 'Ariadna', 'Bautista', 'CAROLINA', 'CESAR', 'David', 'Diego', 'Dolores', 'DYLAN', 'ELIANA', 'Emanuel', 'Fabián', 'Facundo', 'Facundo', 'FEDERICO', 'FEDERICO', 'GONZALO', 'Gregorio', 'Ignacio', 'Jonathan', 'Jonathan', 'Jorge', 'JOSE', 'JUAN', 'Juan', 'Juan', 'Julian', 'Julieta', 'LAUTARO', 'Leonel', 'LUIS', 'Luis', 'Marcos', 'María', 'MATEO', 'Matias', 'Nicolás', 'NICOLÁS', 'Noelia', 'Pablo', 'Priscila', 'TOMAS', 'Tomás', 'Ulises', 'Yanina']\n",
      "[81, 60, 72, 24, 15, 91, 12, 70, 29, 42, 16, 3, 35, 67, 10, 57, 11, 69, 12, 77, 13, 86, 48, 65, 51, 41, 87, 43, 10, 87, 91, 15, 44, 85, 73, 37, 42, 95, 18, 7, 74, 60, 9, 65, 93, 63, 74]\n",
      "[30, 95, 28, 84, 84, 43, 66, 51, 4, 11, 58, 10, 13, 34, 96, 71, 86, 37, 64, 13, 8, 87, 14, 14, 49, 27, 55, 69, 77, 59, 57, 40, 96, 24, 30, 73, 95, 19, 47, 15, 31, 39, 15, 74, 33, 57, 10]\n"
     ]
    }
   ],
   "source": [
    "def crear_lista(cadena):\n",
    "    lista = re.split(\"[,\" \"]\", cadena)\n",
    "    for indice in range(len(lista)):\n",
    "        lista[indice] = eval(lista[indice].replace(\"\\n\", \"\").replace(\" \", \"\"))\n",
    "    return lista\n",
    "\n",
    "lista_nombres = crear_lista(nombres)\n",
    "lista_notas_1 = crear_lista(eval_1)\n",
    "lista_notas_2 = crear_lista(eval_2)\n",
    "\n",
    "print(lista_nombres)\n",
    "print(lista_notas_1)\n",
    "print(lista_notas_2)    "
   ]
  },
  {
   "cell_type": "markdown",
   "metadata": {},
   "source": [
    "##### A continuacion se genero una lista con la suma de ambas notas para cada nombre, utilizando la funcion map y las expresiones lambda. La suma de dichas notas se guardo en la variable *suma_notas*"
   ]
  },
  {
   "cell_type": "code",
   "execution_count": 32,
   "metadata": {},
   "outputs": [
    {
     "name": "stdout",
     "output_type": "stream",
     "text": [
      "[111, 155, 100, 108, 99, 134, 78, 121, 33, 53, 74, 13, 48, 101, 106, 128, 97, 106, 76, 90, 21, 173, 62, 79, 100, 68, 142, 112, 87, 146, 148, 55, 140, 109, 103, 110, 137, 114, 65, 22, 105, 99, 24, 139, 126, 120, 84]\n"
     ]
    }
   ],
   "source": [
    "def sumar_notas(lista_1, lista_2):\n",
    "    return list(map(lambda x,y: x + y, lista_1, lista_2))\n",
    "\n",
    "suma_notas = sumar_notas(lista_notas_1, lista_notas_2)\n",
    "print(suma_notas)"
   ]
  },
  {
   "cell_type": "markdown",
   "metadata": {},
   "source": [
    "##### Luego se procedio a generar la estructura con los nombres de los estudiantes y la suma de ambas notas. Se ha decidido que la estructura a generar sea de tipo tupla, ya que nos permite tener informacion para cada elemento de la forma *(nombre_estudiante, suma_de_ambas_notas)*. Ademas se eligio este tipo de estructura porque los nombres de los alumnos podrian llegar a repetirse (los nombres no son unicos). \n",
    "\n"
   ]
  },
  {
   "cell_type": "code",
   "execution_count": 33,
   "metadata": {},
   "outputs": [
    {
     "name": "stdout",
     "output_type": "stream",
     "text": [
      "[('Agustin', 111), ('Alan', 155), ('Andrés', 100), ('Ariadna', 108), ('Bautista', 99), ('CAROLINA', 134), ('CESAR', 78), ('David', 121), ('Diego', 33), ('Dolores', 53), ('DYLAN', 74), ('ELIANA', 13), ('Emanuel', 48), ('Fabián', 101), ('Facundo', 106), ('Facundo', 128), ('FEDERICO', 97), ('FEDERICO', 106), ('GONZALO', 76), ('Gregorio', 90), ('Ignacio', 21), ('Jonathan', 173), ('Jonathan', 62), ('Jorge', 79), ('JOSE', 100), ('JUAN', 68), ('Juan', 142), ('Juan', 112), ('Julian', 87), ('Julieta', 146), ('LAUTARO', 148), ('Leonel', 55), ('LUIS', 140), ('Luis', 109), ('Marcos', 103), ('María', 110), ('MATEO', 137), ('Matias', 114), ('Nicolás', 65), ('NICOLÁS', 22), ('Noelia', 105), ('Pablo', 99), ('Priscila', 24), ('TOMAS', 139), ('Tomás', 126), ('Ulises', 120), ('Yanina', 84)]\n"
     ]
    }
   ],
   "source": [
    "def generar_estructura(lista_1, notas):\n",
    "    return [(lista_1[i], notas[i]) for i in range(len(lista_1))]\n",
    "\n",
    "nombres_y_notas = generar_estructura(lista_nombres, suma_notas)\n",
    "print(nombres_y_notas)"
   ]
  },
  {
   "cell_type": "markdown",
   "metadata": {},
   "source": [
    "##### Una vez generada la estructura, se calcula el promedio de las notas totales. Para esto se define la función *calculo_promedio*, en el cual simplemente se obtiene la suma total de los elementos de la lista *suma_notas* y se divide por la cantidad de elementos de la misma."
   ]
  },
  {
   "cell_type": "code",
   "execution_count": 34,
   "metadata": {},
   "outputs": [
    {
     "name": "stdout",
     "output_type": "stream",
     "text": [
      "96.19148936170212\n"
     ]
    }
   ],
   "source": [
    "def calculo_promedio(suma_de_notas):\n",
    "    return sum(suma_de_notas)/len(suma_de_notas)\n",
    "\n",
    "promedio_notas = calculo_promedio(suma_notas)\n",
    "\n",
    "print(promedio_notas)"
   ]
  },
  {
   "cell_type": "markdown",
   "metadata": {},
   "source": [
    "##### Finalmente, para informar que alumnos obtuvieron una nota menor al promedio, se definio la función *menor_al_promedio*, en la cual primero se filtro de la tupla los alumnos con nota menor al promedio por medio list comprehension, y luego se imprimen los nombres de los alumnos."
   ]
  },
  {
   "cell_type": "code",
   "execution_count": 35,
   "metadata": {},
   "outputs": [
    {
     "name": "stdout",
     "output_type": "stream",
     "text": [
      "CESAR\n",
      "Diego\n",
      "Dolores\n",
      "DYLAN\n",
      "ELIANA\n",
      "Emanuel\n",
      "GONZALO\n",
      "Gregorio\n",
      "Ignacio\n",
      "Jonathan\n",
      "Jorge\n",
      "JUAN\n",
      "Julian\n",
      "Leonel\n",
      "Nicolás\n",
      "NICOLÁS\n",
      "Priscila\n",
      "Yanina\n"
     ]
    }
   ],
   "source": [
    "def menor_al_promedio(tupla, promedio):\n",
    "    menores_al_promedio = [t for t in list(tupla) if t[1] < promedio]\n",
    "    [print(menores_al_promedio[i][0]) for i in range(len(menores_al_promedio))]\n",
    "\n",
    "menor_al_promedio(nombres_y_notas, promedio_notas)"
   ]
  }
 ],
 "metadata": {
  "interpreter": {
   "hash": "949bc823855ca216dafc4932d6a93f97aea40057c1c23420eb847c02a5e63317"
  },
  "kernelspec": {
   "display_name": "Python 3.8.10 32-bit",
   "language": "python",
   "name": "python3"
  },
  "language_info": {
   "codemirror_mode": {
    "name": "ipython",
    "version": 3
   },
   "file_extension": ".py",
   "mimetype": "text/x-python",
   "name": "python",
   "nbconvert_exporter": "python",
   "pygments_lexer": "ipython3",
   "version": "3.8.10"
  },
  "orig_nbformat": 4
 },
 "nbformat": 4,
 "nbformat_minor": 2
}
